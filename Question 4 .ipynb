{
 "cells": [
  {
   "cell_type": "code",
   "execution_count": 4,
   "id": "23af0ac0",
   "metadata": {
    "scrolled": true
   },
   "outputs": [
    {
     "name": "stdout",
     "output_type": "stream",
     "text": [
      "Enter string : axxxy\n",
      "['a', 'ax', 'axx', 'axxx', 'axxxy', 'x', 'xx', 'xxx', 'xxxy', 'x', 'xx', 'xxy', 'x', 'xy', 'y']\n",
      "0\n"
     ]
    }
   ],
   "source": [
    "def ind(a,s):\n",
    "    for i in range(len(a)):\n",
    "        for j in range(i+1,len(s)):\n",
    "            if(a[i]==s[j]):\n",
    "                if(i==j):\n",
    "                    return False # check if the indices of characters in subsequent string are same as main string\n",
    "a = input(\"Enter string : \")\n",
    "b=[]\n",
    "k=0\n",
    "for i in range(len(a)):       \n",
    "    b.append(a[i])\n",
    "    for j in range(i+2,len(a)+1):\n",
    "            b.append(a[i:j])\n",
    "print(b)                         # a list which contains all the subsequent strings\n",
    "am=[]\n",
    "for i in b:\n",
    "    l=[]\n",
    "    for j in b:\n",
    "        if i==j:\n",
    "            l.append(j)          # list contains the number of times a subsequent string is repeated\n",
    "    am.append(l)                 # list of all lists\n",
    "max1 =0\n",
    "for i in am:   \n",
    "    if(len(i)>1):                # check if the list is containing a subsequent string which has repeated more than once\n",
    "        if(len(i[0])>max1):      # check if the subsequent string is the longest or not\n",
    "            for k in range(len(i)):\n",
    "                if(ind(i[k],a)):  # check if all subsequent strings are satisifying the condition \n",
    "                    max1 = len(i[k])\n",
    "print(max1)                       # print the length of the longest substring"
   ]
  },
  {
   "cell_type": "code",
   "execution_count": 5,
   "id": "a11c1dbb",
   "metadata": {},
   "outputs": [
    {
     "name": "stdout",
     "output_type": "stream",
     "text": [
      "Enter string : aabb\n",
      "['a', 'aa', 'aab', 'aabb', 'a', 'ab', 'abb', 'b', 'bb', 'b']\n",
      "1\n"
     ]
    }
   ],
   "source": [
    "a = input(\"Enter string : \")\n",
    "b=[]\n",
    "for i in range(len(a)):\n",
    "    b.append(a[i])\n",
    "    for j in range(i+2,len(a)+1):\n",
    "            b.append(a[i:j])         # a list which contains all the subsequent strings\n",
    "max1=0\n",
    "print(b)\n",
    "for i in b:\n",
    "    c=0\n",
    "    for j in b:\n",
    "        if(i==j):\n",
    "            c=c+1                    # counter increment\n",
    "            if(c>1):                 # if a subsequent string has appeared more than once \n",
    "                if(len(i)>=max1):    # if the particular subsequent string is the longest\n",
    "                    max1 = len(i)\n",
    "print(max1)                          # print the length of the longest substring"
   ]
  },
  {
   "cell_type": "code",
   "execution_count": null,
   "id": "e02438b6",
   "metadata": {},
   "outputs": [],
   "source": []
  },
  {
   "cell_type": "code",
   "execution_count": null,
   "id": "9b7235da",
   "metadata": {},
   "outputs": [],
   "source": []
  },
  {
   "cell_type": "code",
   "execution_count": null,
   "id": "de563250",
   "metadata": {},
   "outputs": [],
   "source": []
  },
  {
   "cell_type": "code",
   "execution_count": null,
   "id": "3529c4de",
   "metadata": {},
   "outputs": [],
   "source": []
  }
 ],
 "metadata": {
  "kernelspec": {
   "display_name": "Python 3 (ipykernel)",
   "language": "python",
   "name": "python3"
  },
  "language_info": {
   "codemirror_mode": {
    "name": "ipython",
    "version": 3
   },
   "file_extension": ".py",
   "mimetype": "text/x-python",
   "name": "python",
   "nbconvert_exporter": "python",
   "pygments_lexer": "ipython3",
   "version": "3.9.12"
  }
 },
 "nbformat": 4,
 "nbformat_minor": 5
}
